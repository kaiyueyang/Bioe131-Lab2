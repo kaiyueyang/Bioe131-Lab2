{
 "cells": [
  {
   "cell_type": "code",
   "execution_count": 47,
   "metadata": {},
   "outputs": [
    {
     "name": "stdout",
     "output_type": "stream",
     "text": [
      "{'z': 4, 's': 2, 'dasd': 3}\n"
     ]
    }
   ],
   "source": [
    "xyz = { \"s\": 2, \"dasd\": 3}\n",
    "xyz[\"z\"]=4\n",
    "print (xyz)"
   ]
  },
  {
   "cell_type": "code",
   "execution_count": 55,
   "metadata": {},
   "outputs": [
    {
     "data": {
      "image/png": "[encoded data removed]",
      "text/plain": [
       "<Figure size 432x288 with 1 Axes>"
      ]
     },
     "metadata": {},
     "output_type": "display_data"
    }
   ],
   "source": [
    "with open('romeoandjuliet.txt', 'r') as myfile:\n",
    "    data=myfile.read().replace('\\n', '')\n",
    "#print(data)\n",
    "data = data.replace(\",\",\" \")\n",
    "data = data.replace(\".\",\" \")\n",
    "data = data.replace(\"!\",\" \")\n",
    "data = data.replace(\"?\",\" \")\n",
    "data = data.replace('\"',\" \")\n",
    "#how do we do with quote marks? \"Darling ....\"   \"I'm\"\n",
    "data = data.replace(\"-\",\" \")\n",
    "data = data.replace(\";\",\" \")\n",
    "data = data.replace(\"[\",\" \")\n",
    "data = data.replace(\"]\",\" \")\n",
    "data = data.replace(\"(\",\" \")\n",
    "data = data.replace(\")\",\" \")\n",
    "#data = data.strip()\n",
    "data = data.lower()\n",
    "data = data.split()\n",
    "\n",
    "frequency = {}\n",
    "for x in data:\n",
    "    time = data.count(x)\n",
    "    frequency[x]=time\n",
    "\n",
    "#print(ttl)\n",
    "\n",
    "import matplotlib.pyplot as plt\n",
    "\n",
    "plt.bar(range(len(frequency)), list(frequency.values()), align='center')\n",
    "plt.xticks(range(len(frequency)), list(frequency.keys()))\n",
    "\n",
    "\n",
    "# # for python 2.x:\n",
    "# plt.bar(range(len(D)), D.values(), align='center')  # python 2.x\n",
    "# plt.xticks(range(len(D)), D.keys())  # in python 2.x\n",
    "\n",
    "plt.show()\n",
    "\n",
    "# Remove duplicate elements \n",
    "#def Remove(data): \n",
    "#    final_list = [] \n",
    "#    for num in data: \n",
    "#        if num not in final_list: \n",
    "#            final_list.append(num) \n",
    "#    return final_list \n",
    "#data = Remove(data)\n",
    "\n",
    "\n",
    "#print (data)\n",
    "\n"
   ]
  },
  {
   "cell_type": "code",
   "execution_count": null,
   "metadata": {},
   "outputs": [],
   "source": []
  }
 ],
 "metadata": {
  "kernelspec": {
   "display_name": "Python 3",
   "language": "python",
   "name": "python3"
  },
  "language_info": {
   "codemirror_mode": {
    "name": "ipython",
    "version": 3
   },
   "file_extension": ".py",
   "mimetype": "text/x-python",
   "name": "python",
   "nbconvert_exporter": "python",
   "pygments_lexer": "ipython3",
   "version": "3.5.2"
  }
 },
 "nbformat": 4,
 "nbformat_minor": 2
}
